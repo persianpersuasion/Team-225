{
 "cells": [
  {
   "cell_type": "code",
   "execution_count": 1,
   "id": "2221d6e7",
   "metadata": {},
   "outputs": [],
   "source": [
    "import pandas as pd\n",
    "import numpy as np\n",
    "from sklearn.ensemble import RandomForestRegressor\n",
    "from sklearn.model_selection import train_test_split"
   ]
  },
  {
   "cell_type": "markdown",
   "id": "7126a18a",
   "metadata": {},
   "source": [
    "First, we will generate data from the different variables listed using a random variable customizer (obviously our actual model will have some accurate datapoints lol I'm just too lazy to clean data rn)"
   ]
  },
  {
   "cell_type": "code",
   "execution_count": 2,
   "id": "4441674d",
   "metadata": {},
   "outputs": [],
   "source": [
    "data = {\n",
    "    'Community': ['Santee', 'Poway', 'La Jolla', 'Chula Vista', 'Escondido', 'El Cajon', 'Oceanside', 'Encinitas', \n",
    "                  'Carlsbad', 'San Ysidro', 'Vista', 'National City'],\n",
    "    'Proportion_Adults': np.random.uniform(0.5, 0.8, 12),\n",
    "    'Proportion_Seniors': np.random.uniform(0.1, 0.3, 12),\n",
    "    'Proportion_Children': np.random.uniform(0.2, 0.4, 12),\n",
    "    'Labor_Force_16_and_Over': np.random.uniform(0.6, 0.8, 12),\n",
    "    'Proportion_Females': np.random.uniform(0.4, 0.6, 12),\n",
    "    'Children_Single_Parent_Household': np.random.uniform(0.1, 0.3, 12),\n",
    "    'Families_Below_Poverty': np.random.uniform(0.1, 0.4, 12),\n",
    "    'Employment_Status': np.random.uniform(0.7, 0.9, 12),\n",
    "    'Recorded_Overdoses': np.random.randint(10, 100, 12),\n",
    "    'Proportion_Unhoused': np.random.uniform(0.01, 0.1, 12),\n",
    "    'Healthcare_Facilities': np.random.randint(1, 5, 12),\n",
    "    'Urban_Rural': np.random.choice([0, 1], 12),  # 0 for urban, 1 for rural\n",
    "    'Opioid_Prescription_Rates': np.random.uniform(0.1, 0.3, 12),\n",
    "    'Drug_Related_Arrests': np.random.randint(10, 50, 12)\n",
    "}"
   ]
  },
  {
   "cell_type": "markdown",
   "id": "c8a35394",
   "metadata": {},
   "source": [
    "Now, let's put it into a dataframe"
   ]
  },
  {
   "cell_type": "code",
   "execution_count": 3,
   "id": "286b7bca",
   "metadata": {},
   "outputs": [],
   "source": [
    "df = pd.DataFrame(data)"
   ]
  },
  {
   "cell_type": "markdown",
   "id": "dc974571",
   "metadata": {},
   "source": [
    "Our target variable of measurement is the \"at risk\" population of experiencing opiate overdoses. This will allow government agencies and healthcare professionals to calculate narcan demand across various communities."
   ]
  },
  {
   "cell_type": "code",
   "execution_count": 4,
   "id": "f02b4106",
   "metadata": {},
   "outputs": [],
   "source": [
    "df['At_Risk_Count'] = np.random.randint(50, 500, 12)"
   ]
  },
  {
   "cell_type": "code",
   "execution_count": 5,
   "id": "876a1338",
   "metadata": {},
   "outputs": [],
   "source": [
    "X = df.drop(['Community', 'At_Risk_Count'], axis=1)\n",
    "y = df['At_Risk_Count']"
   ]
  },
  {
   "cell_type": "markdown",
   "id": "b6b03928",
   "metadata": {},
   "source": [
    "Now, we will train the data"
   ]
  },
  {
   "cell_type": "code",
   "execution_count": 6,
   "id": "e4315b4c",
   "metadata": {},
   "outputs": [],
   "source": [
    "X_train, X_test, y_train, y_test = train_test_split(X, y, test_size=0.2, random_state=42)"
   ]
  },
  {
   "cell_type": "code",
   "execution_count": 7,
   "id": "f8772102",
   "metadata": {},
   "outputs": [
    {
     "data": {
      "text/html": [
       "<style>#sk-container-id-1 {color: black;}#sk-container-id-1 pre{padding: 0;}#sk-container-id-1 div.sk-toggleable {background-color: white;}#sk-container-id-1 label.sk-toggleable__label {cursor: pointer;display: block;width: 100%;margin-bottom: 0;padding: 0.3em;box-sizing: border-box;text-align: center;}#sk-container-id-1 label.sk-toggleable__label-arrow:before {content: \"▸\";float: left;margin-right: 0.25em;color: #696969;}#sk-container-id-1 label.sk-toggleable__label-arrow:hover:before {color: black;}#sk-container-id-1 div.sk-estimator:hover label.sk-toggleable__label-arrow:before {color: black;}#sk-container-id-1 div.sk-toggleable__content {max-height: 0;max-width: 0;overflow: hidden;text-align: left;background-color: #f0f8ff;}#sk-container-id-1 div.sk-toggleable__content pre {margin: 0.2em;color: black;border-radius: 0.25em;background-color: #f0f8ff;}#sk-container-id-1 input.sk-toggleable__control:checked~div.sk-toggleable__content {max-height: 200px;max-width: 100%;overflow: auto;}#sk-container-id-1 input.sk-toggleable__control:checked~label.sk-toggleable__label-arrow:before {content: \"▾\";}#sk-container-id-1 div.sk-estimator input.sk-toggleable__control:checked~label.sk-toggleable__label {background-color: #d4ebff;}#sk-container-id-1 div.sk-label input.sk-toggleable__control:checked~label.sk-toggleable__label {background-color: #d4ebff;}#sk-container-id-1 input.sk-hidden--visually {border: 0;clip: rect(1px 1px 1px 1px);clip: rect(1px, 1px, 1px, 1px);height: 1px;margin: -1px;overflow: hidden;padding: 0;position: absolute;width: 1px;}#sk-container-id-1 div.sk-estimator {font-family: monospace;background-color: #f0f8ff;border: 1px dotted black;border-radius: 0.25em;box-sizing: border-box;margin-bottom: 0.5em;}#sk-container-id-1 div.sk-estimator:hover {background-color: #d4ebff;}#sk-container-id-1 div.sk-parallel-item::after {content: \"\";width: 100%;border-bottom: 1px solid gray;flex-grow: 1;}#sk-container-id-1 div.sk-label:hover label.sk-toggleable__label {background-color: #d4ebff;}#sk-container-id-1 div.sk-serial::before {content: \"\";position: absolute;border-left: 1px solid gray;box-sizing: border-box;top: 0;bottom: 0;left: 50%;z-index: 0;}#sk-container-id-1 div.sk-serial {display: flex;flex-direction: column;align-items: center;background-color: white;padding-right: 0.2em;padding-left: 0.2em;position: relative;}#sk-container-id-1 div.sk-item {position: relative;z-index: 1;}#sk-container-id-1 div.sk-parallel {display: flex;align-items: stretch;justify-content: center;background-color: white;position: relative;}#sk-container-id-1 div.sk-item::before, #sk-container-id-1 div.sk-parallel-item::before {content: \"\";position: absolute;border-left: 1px solid gray;box-sizing: border-box;top: 0;bottom: 0;left: 50%;z-index: -1;}#sk-container-id-1 div.sk-parallel-item {display: flex;flex-direction: column;z-index: 1;position: relative;background-color: white;}#sk-container-id-1 div.sk-parallel-item:first-child::after {align-self: flex-end;width: 50%;}#sk-container-id-1 div.sk-parallel-item:last-child::after {align-self: flex-start;width: 50%;}#sk-container-id-1 div.sk-parallel-item:only-child::after {width: 0;}#sk-container-id-1 div.sk-dashed-wrapped {border: 1px dashed gray;margin: 0 0.4em 0.5em 0.4em;box-sizing: border-box;padding-bottom: 0.4em;background-color: white;}#sk-container-id-1 div.sk-label label {font-family: monospace;font-weight: bold;display: inline-block;line-height: 1.2em;}#sk-container-id-1 div.sk-label-container {text-align: center;}#sk-container-id-1 div.sk-container {/* jupyter's `normalize.less` sets `[hidden] { display: none; }` but bootstrap.min.css set `[hidden] { display: none !important; }` so we also need the `!important` here to be able to override the default hidden behavior on the sphinx rendered scikit-learn.org. See: https://github.com/scikit-learn/scikit-learn/issues/21755 */display: inline-block !important;position: relative;}#sk-container-id-1 div.sk-text-repr-fallback {display: none;}</style><div id=\"sk-container-id-1\" class=\"sk-top-container\"><div class=\"sk-text-repr-fallback\"><pre>RandomForestRegressor(random_state=42)</pre><b>In a Jupyter environment, please rerun this cell to show the HTML representation or trust the notebook. <br />On GitHub, the HTML representation is unable to render, please try loading this page with nbviewer.org.</b></div><div class=\"sk-container\" hidden><div class=\"sk-item\"><div class=\"sk-estimator sk-toggleable\"><input class=\"sk-toggleable__control sk-hidden--visually\" id=\"sk-estimator-id-1\" type=\"checkbox\" checked><label for=\"sk-estimator-id-1\" class=\"sk-toggleable__label sk-toggleable__label-arrow\">RandomForestRegressor</label><div class=\"sk-toggleable__content\"><pre>RandomForestRegressor(random_state=42)</pre></div></div></div></div></div>"
      ],
      "text/plain": [
       "RandomForestRegressor(random_state=42)"
      ]
     },
     "execution_count": 7,
     "metadata": {},
     "output_type": "execute_result"
    }
   ],
   "source": [
    "rf_model = RandomForestRegressor(n_estimators=100, random_state=42)\n",
    "rf_model.fit(X_train, y_train)"
   ]
  },
  {
   "cell_type": "code",
   "execution_count": 10,
   "id": "cd37976a",
   "metadata": {},
   "outputs": [],
   "source": [
    "predictions = rf_model.predict(X_test)"
   ]
  },
  {
   "cell_type": "code",
   "execution_count": 11,
   "id": "a0a2a50e",
   "metadata": {},
   "outputs": [],
   "source": [
    "df_with_predictions = pd.DataFrame({\n",
    "    'Community': df['Community'].iloc[X_test.index],\n",
    "    'Actual_At_Risk_Count': y_test,\n",
    "    'Predicted_At_Risk_Count': predictions\n",
    "})"
   ]
  },
  {
   "cell_type": "markdown",
   "id": "e863396d",
   "metadata": {},
   "source": [
    "We can visualize model predictions below"
   ]
  },
  {
   "cell_type": "code",
   "execution_count": 14,
   "id": "8e8c107b",
   "metadata": {},
   "outputs": [
    {
     "name": "stdout",
     "output_type": "stream",
     "text": [
      "     Community  Actual_At_Risk_Count  Predicted_At_Risk_Count\n",
      "10       Vista                   355                   162.08\n",
      "9   San Ysidro                   192                   141.98\n",
      "0       Santee                    58                   224.26\n"
     ]
    }
   ],
   "source": [
    "pd.set_option('display.max_rows', None)\n",
    "print(df_with_predictions)"
   ]
  },
  {
   "cell_type": "markdown",
   "id": "b120ef96",
   "metadata": {},
   "source": [
    "CHECK THE FINAL DOC FOR THE FULLY EXPANDED VERSION OF THE MODEL I WANNA CREATE (includes generating lots of data including an independent variable for time & extrapolating trends (to get a predicted at risk count)which is like a form of pattern recognition i learned in econ lol"
   ]
  },
  {
   "cell_type": "code",
   "execution_count": null,
   "id": "667abab7",
   "metadata": {},
   "outputs": [],
   "source": []
  }
 ],
 "metadata": {
  "kernelspec": {
   "display_name": "Python 3 (ipykernel)",
   "language": "python",
   "name": "python3"
  },
  "language_info": {
   "codemirror_mode": {
    "name": "ipython",
    "version": 3
   },
   "file_extension": ".py",
   "mimetype": "text/x-python",
   "name": "python",
   "nbconvert_exporter": "python",
   "pygments_lexer": "ipython3",
   "version": "3.11.5"
  }
 },
 "nbformat": 4,
 "nbformat_minor": 5
}
